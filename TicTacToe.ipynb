{
 "cells": [
  {
   "cell_type": "code",
   "execution_count": 85,
   "metadata": {},
   "outputs": [],
   "source": [
    "# a tic tac toe game\n",
    "#2d array created for storage\n",
    "#X is initial player\n",
    "#changed the player ie. next turn\n",
    "#n to m\n",
    "#turn ---max=9\n",
    "#let's check where turn will be increased\n",
    "#let's check for missing print(self.a)\n",
    "#using simple a\n",
    "#* is default value so it does not count in wining--- rather X , Y\n",
    "#changed self.player ='n' bcz initially (n to m) converted hence X first, not Y\n",
    "#let's make output beautiful\n",
    "#winning was not shown\n",
    "#game should be stopped after winning\n",
    "#so here is the tic tac toe game.\n",
    "#thanks for watching\n",
    "#stay connected for more upcoming videos"
   ]
  },
  {
   "cell_type": "code",
   "execution_count": 75,
   "metadata": {},
   "outputs": [],
   "source": [
    "class TicTacToe:\n",
    "    def __init__(self):\n",
    "        self.a=self.board()\n",
    "        self.player='n'\n",
    "        self.turn=0\n",
    "        self.w=0\n",
    "        \n",
    "        \n",
    "        \n",
    "    def board(self):\n",
    "        a=[['*','*','*'],\n",
    "           ['*','*','*'],\n",
    "           ['*','*','*']]\n",
    "        return a\n",
    "    \n",
    "    def marking(self,position):\n",
    "        if(self.w==1):\n",
    "            print(\"Game already over\")\n",
    "            return None\n",
    "        elif(self.a[position[0]][position[1]]=='Y' or self.a[position[0]][position[1]]=='X'):\n",
    "            statement=\"Already occupied\"\n",
    "            for i in self.a:\n",
    "                print(i)\n",
    "            print(statement)\n",
    "        elif(self.turn==9):\n",
    "            #checking whether game is already finished\n",
    "            statement=\"Game over!!!\"\n",
    "            for i in self.a:\n",
    "                print(i)\n",
    "            print(statement)\n",
    "            \n",
    "        else:\n",
    "            if(self.player=='m'):\n",
    "                self.player='n'\n",
    "                self.a[position[0]][position[1]]='Y'\n",
    "                self.turn=self.turn+1\n",
    "                if(self.won()):\n",
    "                    self.w=1\n",
    "                    for i in self.a:\n",
    "                        print(i)\n",
    "                    print(\"You won\")\n",
    "                    \n",
    "                \n",
    "            else:\n",
    "                self.player='m'\n",
    "                self.a[position[0]][position[1]]='X'\n",
    "                self.turn=self.turn+1\n",
    "                if(self.won()):\n",
    "                    self.w=1\n",
    "                    for i in self.a:\n",
    "                        print(i)\n",
    "                    print(\"You won\")\n",
    "                   \n",
    "        for i in self.a:\n",
    "            print(i)\n",
    "    \n",
    "    def won(self):\n",
    "        for i in range(3):\n",
    "            #same values in the same row\n",
    "            if((self.a[i][0]==self.a[i][1]==self.a[i][2]=='X') or (self.a[i][0]==self.a[i][1]==self.a[i][2]=='Y')):\n",
    "                return True\n",
    "            #checking columns\n",
    "            if((self.a[0][i]==self.a[1][i]==self.a[2][i]=='X') or (self.a[0][i]==self.a[1][i]==self.a[2][i]=='Y')):\n",
    "                return True\n",
    "            #first diagonal\n",
    "        if((self.a[0][0]==self.a[1][1]==self.a[2][2]=='X') or (self.a[0][0]==self.a[1][1]==self.a[2][2]=='Y')) :\n",
    "            return True\n",
    "        if((self.a[0][2]==self.a[1][1]==self.a[2][0]=='X') or (self.a[0][2]==self.a[1][1]==self.a[2][0]=='X')):\n",
    "            return True\n",
    "        else:\n",
    "            return False\n",
    "            \n",
    "            \n",
    "                \n",
    "            \n",
    "                \n",
    "        "
   ]
  },
  {
   "cell_type": "code",
   "execution_count": 76,
   "metadata": {},
   "outputs": [
    {
     "name": "stdout",
     "output_type": "stream",
     "text": [
      "['X', '*', '*']\n",
      "['*', '*', '*']\n",
      "['*', '*', '*']\n"
     ]
    }
   ],
   "source": [
    "t=TicTacToe()\n",
    "t.marking([0,0])#x"
   ]
  },
  {
   "cell_type": "code",
   "execution_count": 77,
   "metadata": {},
   "outputs": [
    {
     "name": "stdout",
     "output_type": "stream",
     "text": [
      "['X', '*', '*']\n",
      "['*', 'Y', '*']\n",
      "['*', '*', '*']\n"
     ]
    }
   ],
   "source": [
    "t.marking([1,1]) #y"
   ]
  },
  {
   "cell_type": "code",
   "execution_count": 78,
   "metadata": {},
   "outputs": [
    {
     "name": "stdout",
     "output_type": "stream",
     "text": [
      "['X', '*', '*']\n",
      "['*', 'Y', '*']\n",
      "['X', '*', '*']\n"
     ]
    }
   ],
   "source": [
    "t.marking([2,0])#x"
   ]
  },
  {
   "cell_type": "code",
   "execution_count": 79,
   "metadata": {},
   "outputs": [
    {
     "name": "stdout",
     "output_type": "stream",
     "text": [
      "['X', '*', '*']\n",
      "['Y', 'Y', '*']\n",
      "['X', '*', '*']\n"
     ]
    }
   ],
   "source": [
    "t.marking([1,0])#y"
   ]
  },
  {
   "cell_type": "code",
   "execution_count": 80,
   "metadata": {},
   "outputs": [
    {
     "name": "stdout",
     "output_type": "stream",
     "text": [
      "['X', 'X', '*']\n",
      "['Y', 'Y', '*']\n",
      "['X', '*', '*']\n"
     ]
    }
   ],
   "source": [
    "t.marking([0,1])#x"
   ]
  },
  {
   "cell_type": "code",
   "execution_count": 81,
   "metadata": {},
   "outputs": [
    {
     "name": "stdout",
     "output_type": "stream",
     "text": [
      "['X', 'X', '*']\n",
      "['Y', 'Y', 'Y']\n",
      "['X', '*', '*']\n",
      "You won\n",
      "['X', 'X', '*']\n",
      "['Y', 'Y', 'Y']\n",
      "['X', '*', '*']\n"
     ]
    }
   ],
   "source": [
    "t.marking([1,2])#y"
   ]
  },
  {
   "cell_type": "code",
   "execution_count": 83,
   "metadata": {},
   "outputs": [
    {
     "name": "stdout",
     "output_type": "stream",
     "text": [
      "Game already over\n"
     ]
    }
   ],
   "source": [
    "t.marking([0,2])"
   ]
  },
  {
   "cell_type": "code",
   "execution_count": 84,
   "metadata": {},
   "outputs": [
    {
     "name": "stdout",
     "output_type": "stream",
     "text": [
      "Game already over\n"
     ]
    }
   ],
   "source": [
    "t.marking([1,1])"
   ]
  },
  {
   "cell_type": "code",
   "execution_count": null,
   "metadata": {},
   "outputs": [],
   "source": []
  }
 ],
 "metadata": {
  "kernelspec": {
   "display_name": "Python 3",
   "language": "python",
   "name": "python3"
  },
  "language_info": {
   "codemirror_mode": {
    "name": "ipython",
    "version": 3
   },
   "file_extension": ".py",
   "mimetype": "text/x-python",
   "name": "python",
   "nbconvert_exporter": "python",
   "pygments_lexer": "ipython3",
   "version": "3.7.3"
  }
 },
 "nbformat": 4,
 "nbformat_minor": 2
}
